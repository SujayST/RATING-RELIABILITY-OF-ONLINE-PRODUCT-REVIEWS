{
 "cells": [
  {
   "cell_type": "code",
   "execution_count": 1,
   "metadata": {},
   "outputs": [],
   "source": [
    " \n",
    "from vaderSentiment.vaderSentiment import SentimentIntensityAnalyzer \n",
    "  \n",
    "\n",
    "def sentiment_scores(sentence): \n",
    "  \n",
    "     \n",
    "    sid_obj = SentimentIntensityAnalyzer() \n",
    "  \n",
    "    \n",
    "    sentiment_dict = sid_obj.polarity_scores(sentence) \n",
    "    \n",
    "    \n",
    "\n",
    "    return min(4,int(6*abs(sentiment_dict['compound'])))\n",
    " \n",
    "    "
   ]
  },
  {
   "cell_type": "code",
   "execution_count": 2,
   "metadata": {},
   "outputs": [
    {
     "name": "stdout",
     "output_type": "stream",
     "text": [
      "4\n"
     ]
    }
   ],
   "source": [
    "print(sentiment_scores(\"The sound was very awesome. The best bass and smooth sound. There is no noise like sound. So I like this product very much\"))"
   ]
  },
  {
   "cell_type": "code",
   "execution_count": 4,
   "metadata": {
    "scrolled": true
   },
   "outputs": [
    {
     "name": "stdout",
     "output_type": "stream",
     "text": [
      "Trust me this product is going to take the market by storm . What an amazing sound , the bass is out of the world . : 88.89\n",
      "\n",
      "This is the best earphones at this price point even better than some higher priced earphones. Bass is adequate for a regular listner vocal are crystal clear. The only thing lacking is braided cable which should have put it at the top of list. : 83.33\n",
      "\n",
      "It's a very good product. Totally worth for money. : 55.56\n",
      "\n",
      "The sound was very awesome. The best bass and smooth sound. There is no noise like sound. So I like this product very much. : 77.78\n",
      "\n",
      "Bass quality is so good, very nice treble and the ear bud fits well... : 83.33\n",
      "\n",
      "Amazed with the sound quality. You can differentiate among each and every instruments. The bass is good and doesn't creeks in vocals and instruments. The best earphones under 1000 and it sounds like premium. If you love listening to music and you understand the music, go for it. If you're heavy bass lover and doesn't care about music quality. Don't go for it. : 55.56\n",
      "\n",
      "Product is good sound quality also good at this price 349rs , i bought one another earphone boat 242 model with this order. Build quality of boat 242 is more better and personally i don't like the mic placement area of boult stormx. But bass is more in storm x than boat242. : 55.56\n",
      "\n",
      "The sound was very awesome. The best bass and smooth sound. There is no noise like sound. So I like this product very much. : 83.33\n",
      "\n",
      "Average quality. : 11.11\n",
      "\n",
      "It is a good earphone at this price. Quality is good, sound is loud. Bass is sometimes overpowered, however good at this price. : 66.67\n",
      "\n",
      "Microphone is not working. Overall good product : 50.00\n",
      "\n",
      "Sound quality and bass quality 👌 superb but only product plastic and robber quality is very poor : 72.22\n",
      "\n",
      "Ok product not that great : 38.89\n",
      "\n",
      "Sound is just ok...But boat is better : 61.11\n",
      "\n",
      "Ok for the price I guess. Another 50 may have given me a better Boult headphone : 72.22\n",
      "\n",
      "Need to improve the bud quality. Otherwise its best headset  : 55.56\n",
      "\n",
      "The Bass of this product which seem to be one of the key points is not upto the mark, it hurt ears on the full volume just because the Bass is not up to the mark. Rather I found Mi heaphones better than this one. : 0.00\n",
      "\n",
      "Not that great as mentioned in other reviews. Also jack is straight whereas on box its mentioned L shaped. Sound quality average. Boat is much better option in the same price : 66.67\n",
      "\n",
      "Whenever I plug in my ear phones in the jack, it comes out with the slightest pull. I don't even hear the earlier snap fit it used to have : 33.33\n",
      "\n",
      "Sound is poor , no bass ,poor noise cancellation not properly . Also it doesn't suport oppo a3s and mi phones properly : 61.11\n",
      "\n",
      "bass is not that much good an over all built quality is so cheap and bad even on the box they have mentioned it has L shape connector but in reality its just a straight design connector. What else should I talk about? Quality of sound bass and built is damn poor : 55.56\n",
      "\n",
      "Mike stopped working within the 3rd week. : 50.00\n",
      "\n",
      "Product will not sustain more then month, : 11.11\n",
      "\n",
      "Fake. Don't buy : 33.33\n",
      "\n",
      "Didn't expect this from boult it is not good actually it's bad : 55.56\n",
      "\n",
      "china product don’t buy : 33.33\n",
      "\n",
      "boycott china product : 22.22\n",
      "\n",
      "worst earphone ever seen : 55.56\n",
      "\n",
      "Average quality. : 33.33\n",
      "\n",
      "Ok : 11.11\n",
      "\n",
      "Marvel used this : 22.22\n",
      "\n",
      "better to die : 22.22\n",
      "\n",
      "India op : 11.11\n",
      "\n"
     ]
    }
   ],
   "source": [
    "\n",
    "    \n",
    "import openpyxl \n",
    "import xlrd \n",
    "  \n",
    "# Give the location of the file \n",
    "path = r\"I:\\extras\\internship\\KNIT\\review (1).xlsx\"\n",
    "  \n",
    "# workbook object is created \n",
    "wb_obj = openpyxl.load_workbook(path) \n",
    "  \n",
    "sheet_obj = wb_obj.active \n",
    "\n",
    "m_row = sheet_obj.max_row\n",
    "  \n",
    "max_col = sheet_obj.max_column \n",
    "  \n",
    "\n",
    "  \n",
    "  \n",
    "wb = xlrd.open_workbook(path) \n",
    "\n",
    "sheet = wb.sheet_by_index(0) \n",
    "  \n",
    "sheet.cell_value(0, 0) \n",
    "  \n",
    "for i in range(1,m_row):\n",
    "    l = sheet.row_values(i)\n",
    "    a1 = sentiment_scores(l[0])\n",
    "    a2=0\n",
    "    a3=0\n",
    "    if int(l[1]) == 0:\n",
    "        a2=1\n",
    "    if int(l[2]) == 1:\n",
    "        a3=2\n",
    "    a4=min(10,l[3])\n",
    "        \n",
    "    net_sum = 2*(a1+a2+a3) + (40*a4//100)  \n",
    "    print(\"{} : {:.2f}\".format(l[0],(net_sum/18)*100))\n",
    "    print()\n",
    "    \n",
    "\n",
    "\n"
   ]
  },
  {
   "cell_type": "code",
   "execution_count": null,
   "metadata": {},
   "outputs": [],
   "source": []
  }
 ],
 "metadata": {
  "kernelspec": {
   "display_name": "Python 3",
   "language": "python",
   "name": "python3"
  },
  "language_info": {
   "codemirror_mode": {
    "name": "ipython",
    "version": 3
   },
   "file_extension": ".py",
   "mimetype": "text/x-python",
   "name": "python",
   "nbconvert_exporter": "python",
   "pygments_lexer": "ipython3",
   "version": "3.7.4"
  }
 },
 "nbformat": 4,
 "nbformat_minor": 2
}
